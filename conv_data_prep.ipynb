{
 "cells": [
  {
   "cell_type": "markdown",
   "metadata": {},
   "source": [
    "# CNN Approach to Time-series classification\n",
    "\n",
    "In this notebook we demonstrate a transformation-based approach to time series classification. A time-series is transformed into an image by one of several methods and the classifier is trained directly on the image data.\n",
    "\n",
    "The notebook automates preprocess of data on any of the 128 UCR time series classification datasets. Download here:\n",
    "http://www.timeseriesclassification.com/index.php, unzip, and set your pwd there to run this notebook as is."
   ]
  },
  {
   "cell_type": "code",
   "execution_count": 4,
   "metadata": {},
   "outputs": [],
   "source": [
    "from scipy.io import arff\n",
    "import seaborn as sns\n",
    "from torch.utils.data import Dataset, DataLoader, ConcatDataset\n",
    "from fastai import *\n",
    "from fastai.vision import * \n",
    "from fastai.vision.data import ImageDataBunch\n",
    "import pandas as pd\n",
    "import matplotlib.pyplot as plt\n",
    "from skimage.transform import resize\n",
    "from sklearn.metrics import confusion_matrix\n",
    "from pyts.image import GASF, GADF, MTF, RecurrencePlots\n",
    "import pdb"
   ]
  },
  {
   "cell_type": "code",
   "execution_count": 9,
   "metadata": {},
   "outputs": [
    {
     "data": {
      "text/plain": [
       "'1.0.24'"
      ]
     },
     "execution_count": 9,
     "metadata": {},
     "output_type": "execute_result"
    }
   ],
   "source": [
    "import fastai; fastai.__version__"
   ]
  },
  {
   "cell_type": "code",
   "execution_count": 5,
   "metadata": {},
   "outputs": [],
   "source": [
    "def cleanup(df):\n",
    "    #df.sample(df.shape[0], replace=False).reset_index(drop=True)\n",
    "    df.columns = [k for k in range(df.shape[1]-1)]+['target']\n",
    "    for k in df.columns[:-1]:\n",
    "        df[k] = df[k].astype('float')\n",
    "    if df.target.dtype == 'object':\n",
    "        df['target'] = df['target'].apply(lambda x: x.decode('ascii')).astype('int')\n",
    "    if sorted(df.target.unique()) != list(np.arange(df.target.nunique())):\n",
    "        new_targs = pd.DataFrame({'target':df.target.unique()}).reset_index()\n",
    "        df = pd.merge(df, new_targs, left_on='target', right_on='target').drop('target',axis=1).rename(columns={'index':'target'})\n",
    "    ts = pd.melt(df.reset_index(), id_vars=['index','target'], var_name='time').rename(columns={'index':'id'})\n",
    "    ts = ts.groupby(['id','time','target']).value.mean().reset_index()\n",
    "    return df, ts\n",
    "\n",
    "def graph_ts(ts):\n",
    "    for k in ts.target.unique():\n",
    "        fig, axes = plt.subplots(figsize=(15,5))\n",
    "        sns.tsplot(ts[ts.target == k], time='time', unit='id', condition='target', value='value', err_style='unit_traces', ax=axes)    \n",
    "    fig, axes = plt.subplots(figsize=(15,5))\n",
    "    sns.tsplot(ts, time='time', unit='id', condition='target', value='value', err_style='unit_traces', ax=axes)\n",
    "    return None\n",
    "\n",
    "def prep_data(task='Oliveoil', cmap='rainbow', method='GASF'):\n",
    "    path = Path('NewTSCProblems/%s'%(task))\n",
    "    for phase in ['train','test']:\n",
    "        data = arff.loadarff('NewTSCProblems/%s/%s_%s.arff'%(task,task,phase))\n",
    "        df = pd.DataFrame(data[0])\n",
    "        df, ts = cleanup(df)\n",
    "        graph_ts(ts)\n",
    "        labels = df.target.unique()\n",
    "        image_size = df.shape[1]-1\n",
    "        if method == 'GASF':\n",
    "            transformer = GASF(image_size=image_size)\n",
    "        elif method == 'GADF':\n",
    "            transformer = GADF(image_size=image_size)\n",
    "        elif method == 'MTF':\n",
    "            transformer = MTF(image_size=image_size)\n",
    "        elif method == 'RP':\n",
    "            transformer == RecurrencePlots(dimension=1, epsilon=None, percentage=10)\n",
    "        else:\n",
    "            method = 'Unaltered'\n",
    "        method_path = path/f'{method}'\n",
    "        method_path.mkdir(exist_ok=True)\n",
    "        phase_path = method_path/f'{phase}'\n",
    "        phase_path.mkdir(exist_ok=True)\n",
    "        if method != 'Unaltered':\n",
    "            image_data = transformer.fit_transform(df[df.columns[:-1]])\n",
    "            for label in labels:\n",
    "                label_path = phase_path/f'{label}'\n",
    "                label_path.mkdir(exist_ok=True)\n",
    "                sub_df = df[df.target == label]\n",
    "                idxs = sub_df.index\n",
    "                for idx in idxs:\n",
    "                    plt.figure(figsize=(10,10))\n",
    "                    plt.imshow(image_data[idx], cmap=cmap, origin='lower')\n",
    "                    plt.savefig(label_path/f'{idx}')\n",
    "                    plt.close('all')\n",
    "        else: \n",
    "            for label in labels:\n",
    "                label_path = phase_path/f'{label}'\n",
    "                label_path.mkdir(exist_ok=True)\n",
    "                sub_df = df[df.target == label]\n",
    "                idxs = sub_df.index\n",
    "                for idx in idxs:\n",
    "                    plt.figure(figsize=(10,10))\n",
    "                    plt.plot(df.iloc[idx].values)\n",
    "                    plt.savefig(label_path/f'{idx}')\n",
    "                    plt.close('all')    \n",
    "    return None\n",
    "\n"
   ]
  },
  {
   "cell_type": "code",
   "execution_count": 6,
   "metadata": {},
   "outputs": [],
   "source": [
    "task='oliveoil'\n",
    "method = 'GADF'"
   ]
  },
  {
   "cell_type": "code",
   "execution_count": 7,
   "metadata": {},
   "outputs": [
    {
     "name": "stderr",
     "output_type": "stream",
     "text": [
      "/Users/maxbaranov/anaconda/envs/pers/lib/python3.7/site-packages/seaborn/timeseries.py:183: UserWarning: The `tsplot` function is deprecated and will be removed in a future release. Please update your code to use the new `lineplot` function.\n",
      "  warnings.warn(msg, UserWarning)\n",
      "/Users/maxbaranov/anaconda/envs/pers/lib/python3.7/site-packages/scipy/stats/stats.py:1713: FutureWarning: Using a non-tuple sequence for multidimensional indexing is deprecated; use `arr[tuple(seq)]` instead of `arr[seq]`. In the future this will be interpreted as an array index, `arr[np.array(seq)]`, which will result either in an error or a different result.\n",
      "  return np.add.reduce(sorted[indexer] * weights, axis=axis) / sumval\n",
      "/Users/maxbaranov/anaconda/envs/pers/lib/python3.7/site-packages/seaborn/timeseries.py:183: UserWarning: The `tsplot` function is deprecated and will be removed in a future release. Please update your code to use the new `lineplot` function.\n",
      "  warnings.warn(msg, UserWarning)\n",
      "/Users/maxbaranov/anaconda/envs/pers/lib/python3.7/site-packages/scipy/stats/stats.py:1713: FutureWarning: Using a non-tuple sequence for multidimensional indexing is deprecated; use `arr[tuple(seq)]` instead of `arr[seq]`. In the future this will be interpreted as an array index, `arr[np.array(seq)]`, which will result either in an error or a different result.\n",
      "  return np.add.reduce(sorted[indexer] * weights, axis=axis) / sumval\n"
     ]
    }
   ],
   "source": [
    "prep_data(task=task, method=method)"
   ]
  },
  {
   "cell_type": "code",
   "execution_count": 15,
   "metadata": {},
   "outputs": [],
   "source": [
    "path = Path('NewTSCProblems/%s/%s'%(task,method))\n",
    "data = (ImageItemList.from_folder(path)\n",
    "        .split_by_folder(train='train', valid='test')\n",
    "        .label_from_folder()\n",
    "        .transform(size=224).databunch())"
   ]
  },
  {
   "cell_type": "code",
   "execution_count": 16,
   "metadata": {},
   "outputs": [],
   "source": [
    "learn = create_cnn(data, models.resnet34, metrics=error_rate)"
   ]
  },
  {
   "cell_type": "code",
   "execution_count": null,
   "metadata": {},
   "outputs": [
    {
     "data": {
      "text/html": [
       "\n",
       "    <div>\n",
       "        <style>\n",
       "        \t/* Turns off some styling */\n",
       "        \tprogress {\n",
       "\n",
       "            \t/* gets rid of default border in Firefox and Opera. */\n",
       "            \tborder: none;\n",
       "\n",
       "            \t/* Needs to be in here for Safari polyfill so background images work as expected. */\n",
       "            \tbackground-size: auto;\n",
       "            }\n",
       "\n",
       "            .progress-bar-interrupted, .progress-bar-interrupted::-webkit-progress-bar {\n",
       "                background: #F44336;\n",
       "            }\n",
       "        </style>\n",
       "      <progress value='0' class='' max='100', style='width:300px; height:20px; vertical-align: middle;'></progress>\n",
       "      0.00% [0/100 00:00<00:00]\n",
       "    </div>\n",
       "    \n",
       "<table style='width:300px; margin-bottom:10px'>\n",
       "  <tr>\n",
       "    <th>epoch</th>\n",
       "    <th>train_loss</th>\n",
       "    <th>valid_loss</th>\n",
       "    <th>error_rate</th>\n",
       "  </tr>\n",
       "  <tr>\n",
       "\n",
       "  </tr>\n",
       "</table>\n",
       "\n",
       "\n",
       "    <div>\n",
       "        <style>\n",
       "        \t/* Turns off some styling */\n",
       "        \tprogress {\n",
       "\n",
       "            \t/* gets rid of default border in Firefox and Opera. */\n",
       "            \tborder: none;\n",
       "\n",
       "            \t/* Needs to be in here for Safari polyfill so background images work as expected. */\n",
       "            \tbackground-size: auto;\n",
       "            }\n",
       "\n",
       "            .progress-bar-interrupted, .progress-bar-interrupted::-webkit-progress-bar {\n",
       "                background: #F44336;\n",
       "            }\n",
       "        </style>\n",
       "      <progress value='0' class='' max='1', style='width:300px; height:20px; vertical-align: middle;'></progress>\n",
       "      0.00% [0/1 00:00<00:00]\n",
       "    </div>\n",
       "    "
      ],
      "text/plain": [
       "<IPython.core.display.HTML object>"
      ]
     },
     "metadata": {},
     "output_type": "display_data"
    }
   ],
   "source": [
    "learn.lr_find(); learn.recorder.plot()"
   ]
  },
  {
   "cell_type": "code",
   "execution_count": null,
   "metadata": {},
   "outputs": [],
   "source": [
    "learn.fit_one_cycle(3, max_lr=3e-3)"
   ]
  },
  {
   "cell_type": "code",
   "execution_count": null,
   "metadata": {},
   "outputs": [],
   "source": []
  }
 ],
 "metadata": {
  "kernelspec": {
   "display_name": "Python 3",
   "language": "python",
   "name": "python3"
  },
  "language_info": {
   "codemirror_mode": {
    "name": "ipython",
    "version": 3
   },
   "file_extension": ".py",
   "mimetype": "text/x-python",
   "name": "python",
   "nbconvert_exporter": "python",
   "pygments_lexer": "ipython3",
   "version": "3.7.0"
  }
 },
 "nbformat": 4,
 "nbformat_minor": 2
}
